{
  "cells": [
    {
      "cell_type": "markdown",
      "metadata": {
        "id": "view-in-github",
        "colab_type": "text"
      },
      "source": [
        "<a href=\"https://colab.research.google.com/github/janani1424/Hybrid-CNN-Model-for-Brain-Tumor-Detection/blob/main/local_run_model.ipynb\" target=\"_parent\"><img src=\"https://colab.research.google.com/assets/colab-badge.svg\" alt=\"Open In Colab\"/></a>"
      ]
    },
    {
      "cell_type": "code",
      "source": [
        "!git clone https://github.com/janani1424/Hybrid-CNN-Model-for-Brain-Tumor-Detection.git"
      ],
      "metadata": {
        "colab": {
          "base_uri": "https://localhost:8080/"
        },
        "id": "LTt4DL8Py2MZ",
        "outputId": "0cc2cdb4-b3d0-4b82-8349-25287f3b525b"
      },
      "execution_count": 1,
      "outputs": [
        {
          "output_type": "stream",
          "name": "stdout",
          "text": [
            "Cloning into 'Hybrid-CNN-Model-for-Brain-Tumor-Detection'...\n",
            "remote: Enumerating objects: 3, done.\u001b[K\n",
            "remote: Counting objects: 100% (3/3), done.\u001b[K\n",
            "remote: Total 3 (delta 0), reused 0 (delta 0), pack-reused 0 (from 0)\u001b[K\n",
            "Receiving objects: 100% (3/3), done.\n"
          ]
        }
      ]
    },
    {
      "cell_type": "code",
      "execution_count": null,
      "metadata": {
        "colab": {
          "base_uri": "https://localhost:8080/"
        },
        "id": "xovaDXOUWuM7",
        "outputId": "7277fc6e-4b1f-4a26-ccde-60e38cef8794"
      },
      "outputs": [
        {
          "output_type": "stream",
          "name": "stdout",
          "text": [
            "Requirement already satisfied: gradio in /usr/local/lib/python3.11/dist-packages (5.25.2)\n",
            "Requirement already satisfied: aiofiles<25.0,>=22.0 in /usr/local/lib/python3.11/dist-packages (from gradio) (24.1.0)\n",
            "Requirement already satisfied: anyio<5.0,>=3.0 in /usr/local/lib/python3.11/dist-packages (from gradio) (4.9.0)\n",
            "Requirement already satisfied: fastapi<1.0,>=0.115.2 in /usr/local/lib/python3.11/dist-packages (from gradio) (0.115.12)\n",
            "Requirement already satisfied: ffmpy in /usr/local/lib/python3.11/dist-packages (from gradio) (0.5.0)\n",
            "Requirement already satisfied: gradio-client==1.8.0 in /usr/local/lib/python3.11/dist-packages (from gradio) (1.8.0)\n",
            "Requirement already satisfied: groovy~=0.1 in /usr/local/lib/python3.11/dist-packages (from gradio) (0.1.2)\n",
            "Requirement already satisfied: httpx>=0.24.1 in /usr/local/lib/python3.11/dist-packages (from gradio) (0.28.1)\n",
            "Requirement already satisfied: huggingface-hub>=0.28.1 in /usr/local/lib/python3.11/dist-packages (from gradio) (0.30.2)\n",
            "Requirement already satisfied: jinja2<4.0 in /usr/local/lib/python3.11/dist-packages (from gradio) (3.1.6)\n",
            "Requirement already satisfied: markupsafe<4.0,>=2.0 in /usr/local/lib/python3.11/dist-packages (from gradio) (3.0.2)\n",
            "Requirement already satisfied: numpy<3.0,>=1.0 in /usr/local/lib/python3.11/dist-packages (from gradio) (2.0.2)\n",
            "Requirement already satisfied: orjson~=3.0 in /usr/local/lib/python3.11/dist-packages (from gradio) (3.10.16)\n",
            "Requirement already satisfied: packaging in /usr/local/lib/python3.11/dist-packages (from gradio) (24.2)\n",
            "Requirement already satisfied: pandas<3.0,>=1.0 in /usr/local/lib/python3.11/dist-packages (from gradio) (2.2.2)\n",
            "Requirement already satisfied: pillow<12.0,>=8.0 in /usr/local/lib/python3.11/dist-packages (from gradio) (11.1.0)\n",
            "Requirement already satisfied: pydantic<2.12,>=2.0 in /usr/local/lib/python3.11/dist-packages (from gradio) (2.11.3)\n",
            "Requirement already satisfied: pydub in /usr/local/lib/python3.11/dist-packages (from gradio) (0.25.1)\n",
            "Requirement already satisfied: python-multipart>=0.0.18 in /usr/local/lib/python3.11/dist-packages (from gradio) (0.0.20)\n",
            "Requirement already satisfied: pyyaml<7.0,>=5.0 in /usr/local/lib/python3.11/dist-packages (from gradio) (6.0.2)\n",
            "Requirement already satisfied: ruff>=0.9.3 in /usr/local/lib/python3.11/dist-packages (from gradio) (0.11.6)\n",
            "Requirement already satisfied: safehttpx<0.2.0,>=0.1.6 in /usr/local/lib/python3.11/dist-packages (from gradio) (0.1.6)\n",
            "Requirement already satisfied: semantic-version~=2.0 in /usr/local/lib/python3.11/dist-packages (from gradio) (2.10.0)\n",
            "Requirement already satisfied: starlette<1.0,>=0.40.0 in /usr/local/lib/python3.11/dist-packages (from gradio) (0.46.2)\n",
            "Requirement already satisfied: tomlkit<0.14.0,>=0.12.0 in /usr/local/lib/python3.11/dist-packages (from gradio) (0.13.2)\n",
            "Requirement already satisfied: typer<1.0,>=0.12 in /usr/local/lib/python3.11/dist-packages (from gradio) (0.15.2)\n",
            "Requirement already satisfied: typing-extensions~=4.0 in /usr/local/lib/python3.11/dist-packages (from gradio) (4.13.2)\n",
            "Requirement already satisfied: uvicorn>=0.14.0 in /usr/local/lib/python3.11/dist-packages (from gradio) (0.34.2)\n",
            "Requirement already satisfied: fsspec in /usr/local/lib/python3.11/dist-packages (from gradio-client==1.8.0->gradio) (2025.3.2)\n",
            "Requirement already satisfied: websockets<16.0,>=10.0 in /usr/local/lib/python3.11/dist-packages (from gradio-client==1.8.0->gradio) (15.0.1)\n",
            "Requirement already satisfied: idna>=2.8 in /usr/local/lib/python3.11/dist-packages (from anyio<5.0,>=3.0->gradio) (3.10)\n",
            "Requirement already satisfied: sniffio>=1.1 in /usr/local/lib/python3.11/dist-packages (from anyio<5.0,>=3.0->gradio) (1.3.1)\n",
            "Requirement already satisfied: certifi in /usr/local/lib/python3.11/dist-packages (from httpx>=0.24.1->gradio) (2025.1.31)\n",
            "Requirement already satisfied: httpcore==1.* in /usr/local/lib/python3.11/dist-packages (from httpx>=0.24.1->gradio) (1.0.8)\n",
            "Requirement already satisfied: h11<0.15,>=0.13 in /usr/local/lib/python3.11/dist-packages (from httpcore==1.*->httpx>=0.24.1->gradio) (0.14.0)\n",
            "Requirement already satisfied: filelock in /usr/local/lib/python3.11/dist-packages (from huggingface-hub>=0.28.1->gradio) (3.18.0)\n",
            "Requirement already satisfied: requests in /usr/local/lib/python3.11/dist-packages (from huggingface-hub>=0.28.1->gradio) (2.32.3)\n",
            "Requirement already satisfied: tqdm>=4.42.1 in /usr/local/lib/python3.11/dist-packages (from huggingface-hub>=0.28.1->gradio) (4.67.1)\n",
            "Requirement already satisfied: python-dateutil>=2.8.2 in /usr/local/lib/python3.11/dist-packages (from pandas<3.0,>=1.0->gradio) (2.8.2)\n",
            "Requirement already satisfied: pytz>=2020.1 in /usr/local/lib/python3.11/dist-packages (from pandas<3.0,>=1.0->gradio) (2025.2)\n",
            "Requirement already satisfied: tzdata>=2022.7 in /usr/local/lib/python3.11/dist-packages (from pandas<3.0,>=1.0->gradio) (2025.2)\n",
            "Requirement already satisfied: annotated-types>=0.6.0 in /usr/local/lib/python3.11/dist-packages (from pydantic<2.12,>=2.0->gradio) (0.7.0)\n",
            "Requirement already satisfied: pydantic-core==2.33.1 in /usr/local/lib/python3.11/dist-packages (from pydantic<2.12,>=2.0->gradio) (2.33.1)\n",
            "Requirement already satisfied: typing-inspection>=0.4.0 in /usr/local/lib/python3.11/dist-packages (from pydantic<2.12,>=2.0->gradio) (0.4.0)\n",
            "Requirement already satisfied: click>=8.0.0 in /usr/local/lib/python3.11/dist-packages (from typer<1.0,>=0.12->gradio) (8.1.8)\n",
            "Requirement already satisfied: shellingham>=1.3.0 in /usr/local/lib/python3.11/dist-packages (from typer<1.0,>=0.12->gradio) (1.5.4)\n",
            "Requirement already satisfied: rich>=10.11.0 in /usr/local/lib/python3.11/dist-packages (from typer<1.0,>=0.12->gradio) (13.9.4)\n",
            "Requirement already satisfied: six>=1.5 in /usr/local/lib/python3.11/dist-packages (from python-dateutil>=2.8.2->pandas<3.0,>=1.0->gradio) (1.17.0)\n",
            "Requirement already satisfied: markdown-it-py>=2.2.0 in /usr/local/lib/python3.11/dist-packages (from rich>=10.11.0->typer<1.0,>=0.12->gradio) (3.0.0)\n",
            "Requirement already satisfied: pygments<3.0.0,>=2.13.0 in /usr/local/lib/python3.11/dist-packages (from rich>=10.11.0->typer<1.0,>=0.12->gradio) (2.18.0)\n",
            "Requirement already satisfied: charset-normalizer<4,>=2 in /usr/local/lib/python3.11/dist-packages (from requests->huggingface-hub>=0.28.1->gradio) (3.4.1)\n",
            "Requirement already satisfied: urllib3<3,>=1.21.1 in /usr/local/lib/python3.11/dist-packages (from requests->huggingface-hub>=0.28.1->gradio) (2.3.0)\n",
            "Requirement already satisfied: mdurl~=0.1 in /usr/local/lib/python3.11/dist-packages (from markdown-it-py>=2.2.0->rich>=10.11.0->typer<1.0,>=0.12->gradio) (0.1.2)\n"
          ]
        }
      ],
      "source": [
        "!pip install gradio"
      ]
    },
    {
      "cell_type": "code",
      "source": [
        "import random"
      ],
      "metadata": {
        "id": "NWLquRgbWuHi"
      },
      "execution_count": null,
      "outputs": []
    },
    {
      "cell_type": "code",
      "execution_count": null,
      "metadata": {
        "id": "p8zIhFZOXEy8"
      },
      "outputs": [],
      "source": [
        "import os\n",
        "import numpy as np\n",
        "import cv2\n",
        "import tensorflow as tf\n",
        "import gradio as gr\n",
        "import matplotlib.pyplot as plt\n",
        "import seaborn as sns\n",
        "import pandas as pd\n",
        "from tensorflow.keras.applications import ResNet50, VGG16\n",
        "from tensorflow.keras.layers import GlobalAveragePooling2D, Dense, Dropout, Concatenate, Flatten\n",
        "from tensorflow.keras.models import Model\n",
        "from tensorflow.keras.optimizers import Adam\n",
        "from tensorflow.keras.preprocessing.image import img_to_array, ImageDataGenerator"
      ]
    },
    {
      "cell_type": "code",
      "execution_count": null,
      "metadata": {
        "colab": {
          "base_uri": "https://localhost:8080/"
        },
        "id": "AFxr-j1VXNlo",
        "outputId": "d93eef63-2462-403a-ddd0-217de3a7caef"
      },
      "outputs": [
        {
          "output_type": "stream",
          "name": "stdout",
          "text": [
            "Drive already mounted at /content/drive; to attempt to forcibly remount, call drive.mount(\"/content/drive\", force_remount=True).\n"
          ]
        }
      ],
      "source": [
        "from google.colab import drive\n",
        "drive.mount(\"/content/drive\")\n",
        "\n",
        "# Set the path to the dataset\n",
        "dataset_path = \"/content/drive/MyDrive/DATASET\"\n",
        "\n",
        "# Define the training and testing directories\n",
        "train_dir = os.path.join(dataset_path, \"/content/drive/MyDrive/DATASET/Training\")\n",
        "test_dir = os.path.join(dataset_path, \"/content/drive/MyDrive/DATASET/Testing\")\n",
        "\n",
        "# Define the categories\n",
        "categories = [\"glioma\", \"meningioma\", \"notumor\", \"pituitary\"]"
      ]
    },
    {
      "cell_type": "code",
      "execution_count": null,
      "metadata": {
        "id": "xNTGnjLqXcTr"
      },
      "outputs": [],
      "source": [
        "# Define the categories\n",
        "categories = [\"glioma\", \"meningioma\", \"notumor\", \"pituitary\"]"
      ]
    },
    {
      "cell_type": "code",
      "execution_count": null,
      "metadata": {
        "colab": {
          "base_uri": "https://localhost:8080/"
        },
        "id": "xKYGMQhEbIEA",
        "outputId": "d46fc957-4805-4f0a-f76d-2f7adde1f64f"
      },
      "outputs": [
        {
          "output_type": "stream",
          "name": "stdout",
          "text": [
            "Found 5712 images belonging to 4 classes.\n",
            "Found 1268 images belonging to 4 classes.\n"
          ]
        }
      ],
      "source": [
        "# Data augmentation\n",
        "train_datagen = ImageDataGenerator(\n",
        "    rescale=1./255,\n",
        "    rotation_range=20,\n",
        "    width_shift_range=0.1,\n",
        "    height_shift_range=0.1,\n",
        "    shear_range=0.1,\n",
        "    zoom_range=0.1,\n",
        "    horizontal_flip=True,\n",
        "    vertical_flip=True,\n",
        "    fill_mode=\"nearest\"\n",
        ")\n",
        "\n",
        "test_datagen = ImageDataGenerator(rescale=1./255)\n",
        "\n",
        "target_size = (224, 224)\n",
        "batch_size = 32\n",
        "\n",
        "train_generator = train_datagen.flow_from_directory(\n",
        "    train_dir,\n",
        "    target_size=target_size,\n",
        "    batch_size=batch_size,\n",
        "    class_mode=\"categorical\"\n",
        ")\n",
        "\n",
        "test_generator = test_datagen.flow_from_directory(\n",
        "    test_dir,\n",
        "    target_size=target_size,\n",
        "    batch_size=batch_size,\n",
        "    class_mode=\"categorical\",\n",
        "    shuffle=False\n",
        ")"
      ]
    },
    {
      "cell_type": "code",
      "execution_count": null,
      "metadata": {
        "id": "jaG6G33cbOLJ"
      },
      "outputs": [],
      "source": [
        "# Load Pretrained Models\n",
        "resnet = ResNet50(weights='imagenet', include_top=False, input_shape=(224, 224, 3))\n",
        "vgg16 = VGG16(weights='imagenet', include_top=False, input_shape=(224, 224, 3))"
      ]
    },
    {
      "cell_type": "code",
      "execution_count": null,
      "metadata": {
        "id": "K2Y55GJJbe9B"
      },
      "outputs": [],
      "source": [
        "# Freeze Initial Layers\n",
        "for layer in resnet.layers[:100]:\n",
        "    layer.trainable = False\n",
        "for layer in vgg16.layers[:15]:\n",
        "    layer.trainable = False"
      ]
    },
    {
      "cell_type": "code",
      "execution_count": null,
      "metadata": {
        "id": "PkKeeQa0bh-m"
      },
      "outputs": [],
      "source": [
        "# Feature Extraction Layers\n",
        "resnet_output = GlobalAveragePooling2D()(resnet.output)\n",
        "vgg16_output = GlobalAveragePooling2D()(vgg16.output)"
      ]
    },
    {
      "cell_type": "code",
      "execution_count": null,
      "metadata": {
        "id": "flB4F-ZNblU4"
      },
      "outputs": [],
      "source": [
        "# Concatenate Features\n",
        "merged_features = Concatenate()([resnet_output, vgg16_output])"
      ]
    },
    {
      "cell_type": "code",
      "execution_count": null,
      "metadata": {
        "id": "BTPJ0sXsbpsS"
      },
      "outputs": [],
      "source": [
        "# Fully Connected Layers\n",
        "x = Dense(512, activation='relu')(merged_features)\n",
        "x = Dropout(0.5)(x)\n",
        "x = Dense(256, activation='relu')(x)\n",
        "x = Dropout(0.3)(x)\n",
        "out = Dense(len(categories), activation='softmax')  # 4-class classification"
      ]
    },
    {
      "cell_type": "code",
      "execution_count": null,
      "metadata": {
        "id": "VZ6YVpHTbtfB"
      },
      "outputs": [],
      "source": [
        "# Define Hybrid CNN Model\n",
        "model = Model(inputs=[resnet.input, vgg16.input], outputs=out(x)) # Pass the output tensor from the 'out' layer"
      ]
    },
    {
      "cell_type": "code",
      "execution_count": null,
      "metadata": {
        "id": "Zadi4I46bwZa"
      },
      "outputs": [],
      "source": [
        "# Compile Model\n",
        "model.compile(optimizer=Adam(learning_rate=0.0001), loss='categorical_crossentropy', metrics=['accuracy'])\n",
        "\n",
        "# # Class labels\n",
        "# classes = ['Meningioma', 'Glioma', 'Pituitary', 'No Tumor']\n",
        "\n",
        "# stages = {'Meningioma': 'Stage 1-3', 'Glioma': 'Stage 1-4', 'Pituitary': 'Non-staged', 'No Tumor': 'N/A'}\n",
        "\n",
        "# recovery_methods = {\n",
        "#     'Meningioma': \"...\",\n",
        "#     'Glioma': \"...\",\n",
        "#     'Pituitary': \"...\",\n",
        "#     'No Tumor': \"...\"\n",
        "# }\n",
        "\n",
        "# def preprocess_image(image):\n",
        "#     image = cv2.resize(image, target_size)\n",
        "#     image = img_to_array(image) / 255.0\n",
        "#     return np.expand_dims(image, axis=0)\n",
        "\n",
        "# def predict_tumor(image):\n",
        "#     image = cv2.cvtColor(image, cv2.COLOR_BGR2RGB)\n",
        "#     processed_image = preprocess_image(image)\n",
        "#     prediction = model.predict([processed_image, processed_image])\n",
        "#     class_idx = np.argmax(prediction)\n",
        "#     tumor_type = classes[class_idx]\n",
        "#     stage = stages.get(tumor_type, 'Unknown')\n",
        "#     recovery = recovery_methods.get(tumor_type, 'No specific recovery steps available.')\n",
        "\n",
        "#     result = f\"### AI-Powered Brain Tumor Diagnosis 🤖\\n\\n**Tumor Type Identified:** {tumor_type}\\n\\n**Stage:** {stage}\\n\\n### Suggested Recovery Plan\\n{recovery}\"\n",
        "#     return result\n",
        "\n",
        "# demo = gr.Interface(\n",
        "#     fn=predict_tumor,\n",
        "#     inputs=gr.Image(type=\"numpy\", label=\"Upload Your MRI Scan 📸\"),\n",
        "#     outputs=gr.Markdown(),\n",
        "#     title=\"🧠 HYBRID CNN MODEL FOR BRAIN TUMOR DETECTION AND CLASSIFICATION\",\n",
        "#     description=\"Leverage AI-driven MRI analysis for tumor classification, staging, and personalized recovery insights.\",\n",
        "#     theme=\"huggingface\",\n",
        "#     live=True,\n",
        "# )\n",
        "\n",
        "# if __name__ == \"__main__\":\n",
        "#     demo.launch()"
      ]
    },
    {
      "cell_type": "code",
      "execution_count": null,
      "metadata": {
        "colab": {
          "base_uri": "https://localhost:8080/",
          "height": 775
        },
        "id": "_ymn8KEjTqr0",
        "outputId": "5f62fa80-8f9f-41a9-e622-f23e0e3ad2b5"
      },
      "outputs": [
        {
          "output_type": "stream",
          "name": "stderr",
          "text": [
            "/usr/local/lib/python3.11/dist-packages/gradio/layouts/column.py:55: UserWarning: 'scale' value should be an integer. Using 1.5 will cause issues.\n",
            "  warnings.warn(\n",
            "/usr/local/lib/python3.11/dist-packages/gradio/layouts/column.py:55: UserWarning: 'scale' value should be an integer. Using 2.5 will cause issues.\n",
            "  warnings.warn(\n",
            "<ipython-input-29-82360504dd97>:193: UserWarning: You have not specified a value for the `type` parameter. Defaulting to the 'tuples' format for chatbot messages, but this is deprecated and will be removed in a future version of Gradio. Please set type='messages' instead, which uses openai-style dictionaries with 'role' and 'content' keys.\n",
            "  chatbot = gr.Chatbot(label=\"Tumor Assistant Chatbot\", height=300)\n"
          ]
        },
        {
          "output_type": "stream",
          "name": "stdout",
          "text": [
            "It looks like you are running Gradio on a hosted a Jupyter notebook. For the Gradio app to work, sharing must be enabled. Automatically setting `share=True` (you can turn this off by setting `share=False` in `launch()` explicitly).\n",
            "\n",
            "Colab notebook detected. To show errors in colab notebook, set debug=True in launch()\n",
            "\n",
            "Could not create share link. Please check your internet connection or our status page: https://status.gradio.app.\n"
          ]
        },
        {
          "output_type": "stream",
          "name": "stderr",
          "text": [
            "2025/04/23 05:55:49 [W] [service.go:132] login to server failed: dial tcp 44.237.78.176:7000: i/o timeout\n"
          ]
        },
        {
          "output_type": "display_data",
          "data": {
            "text/plain": [
              "<IPython.core.display.Javascript object>"
            ],
            "application/javascript": [
              "(async (port, path, width, height, cache, element) => {\n",
              "                        if (!google.colab.kernel.accessAllowed && !cache) {\n",
              "                            return;\n",
              "                        }\n",
              "                        element.appendChild(document.createTextNode(''));\n",
              "                        const url = await google.colab.kernel.proxyPort(port, {cache});\n",
              "\n",
              "                        const external_link = document.createElement('div');\n",
              "                        external_link.innerHTML = `\n",
              "                            <div style=\"font-family: monospace; margin-bottom: 0.5rem\">\n",
              "                                Running on <a href=${new URL(path, url).toString()} target=\"_blank\">\n",
              "                                    https://localhost:${port}${path}\n",
              "                                </a>\n",
              "                            </div>\n",
              "                        `;\n",
              "                        element.appendChild(external_link);\n",
              "\n",
              "                        const iframe = document.createElement('iframe');\n",
              "                        iframe.src = new URL(path, url).toString();\n",
              "                        iframe.height = height;\n",
              "                        iframe.allow = \"autoplay; camera; microphone; clipboard-read; clipboard-write;\"\n",
              "                        iframe.width = width;\n",
              "                        iframe.style.border = 0;\n",
              "                        element.appendChild(iframe);\n",
              "                    })(7862, \"/\", \"100%\", 500, false, window.element)"
            ]
          },
          "metadata": {}
        },
        {
          "output_type": "execute_result",
          "data": {
            "text/plain": []
          },
          "metadata": {},
          "execution_count": 29
        }
      ],
      "source": [
        "import gradio as gr\n",
        "\n",
        "# Tumor details dictionary with added symptoms and treatment\n",
        "tumor_data = {\n",
        "    \"Glioma\": {\n",
        "        \"about\": [\n",
        "           \"Gliomas originate from glial cells in the brain or spine.\",\n",
        "            \"They can be benign or malignant with varying aggressiveness.\",\n",
        "            \"Symptoms include headaches, seizures, and cognitive dysfunction.\",\n",
        "            \"Treatment often includes surgery, radiation, and chemotherapy.\",\n",
        "            \"Regular MRI scans are recommended for monitoring.\"\n",
        "        ],\n",
        "        \"symptoms\": [\n",
        "            \"Persistent headaches.\",\n",
        "            \"Seizures or convulsions.\",\n",
        "            \"Nausea and vomiting.\",\n",
        "            \"Cognitive or personality changes.\",\n",
        "            \"Weakness or numbness in limbs.\"\n",
        "        ],\n",
        "        \"treatment\": [\n",
        "            \"Surgical resection is typically the first line of treatment.\",\n",
        "            \"Radiation therapy is used post-surgery or for inoperable tumors.\",\n",
        "            \"Chemotherapy may be required for high-grade gliomas.\",\n",
        "            \"Targeted therapies or clinical trials may be considered.\"\n",
        "        ],\n",
        "        \"recovery\": [\n",
        "            \"Surgical removal is typically the first step.\",\n",
        "            \"Radiation therapy targets any remaining tumor tissue.\",\n",
        "            \"Chemotherapy may be needed for aggressive gliomas.\",\n",
        "            \"Frequent neurological evaluations help track progress.\",\n",
        "            \"Healthy lifestyle choices aid overall recovery.\"\n",
        "        ]\n",
        "    },\n",
        "    \"Meningioma\": {\n",
        "        \"about\": [\n",
        "            \"Meningiomas arise from the meninges, the membranes covering the brain and spinal cord.\",\n",
        "            \"Most meningiomas are non-cancerous but can grow large and cause symptoms.\",\n",
        "            \"Common symptoms include vision problems, headaches, and memory issues.\",\n",
        "            \"Diagnosis often involves MRI or CT imaging.\",\n",
        "            \"Not all meningiomas require immediate treatment.\"\n",
        "        ],\n",
        "        \"symptoms\": [\n",
        "            \"Headaches, often worse in the morning.\",\n",
        "            \"Blurred or double vision.\",\n",
        "            \"Hearing loss or ringing in ears.\",\n",
        "            \"Memory problems or personality changes.\",\n",
        "            \"Seizures or focal neurological deficits.\"\n",
        "        ],\n",
        "        \"treatment\": [\n",
        "            \"Observation with periodic imaging if asymptomatic.\",\n",
        "            \"Surgical removal for symptomatic or growing tumors.\",\n",
        "            \"Radiation therapy if surgery isn’t complete or feasible.\",\n",
        "            \"Stereotactic radiosurgery for small, hard-to-reach tumors.\"\n",
        "        ],\n",
        "        \"recovery\": [\n",
        "            \"Observation may be enough for small, asymptomatic tumors.\",\n",
        "            \"Surgical resection is used when tumors are causing symptoms.\",\n",
        "            \"Radiotherapy can be used for incompletely removed tumors.\",\n",
        "            \"Follow-up imaging is required to detect regrowth.\",\n",
        "            \"Supportive therapy improves quality of life.\"\n",
        "        ]\n",
        "    },\n",
        "    \"Pituitary\": {\n",
        "        \"about\": [\n",
        "           \"Pituitary tumors develop in the pituitary gland at the brain’s base.\",\n",
        "            \"They can affect hormone production and cause systemic effects.\",\n",
        "            \"Symptoms include hormonal imbalances, vision issues, and fatigue.\",\n",
        "            \"Often detected via blood tests and MRI scans.\",\n",
        "            \"May be functional (hormone-producing) or non-functional.\"\n",
        "        ],\n",
        "        \"symptoms\": [\n",
        "            \"Vision changes like tunnel vision or blurry vision.\",\n",
        "            \"Unexplained weight gain or loss.\",\n",
        "            \"Menstrual irregularities or sexual dysfunction.\",\n",
        "            \"Fatigue, depression, or mood swings.\",\n",
        "            \"Headaches behind the eyes or forehead.\"\n",
        "        ],\n",
        "        \"treatment\": [\n",
        "            \"Medication to control hormone levels or shrink the tumor.\",\n",
        "            \"Transsphenoidal surgery (through the nose) for removal.\",\n",
        "            \"Radiation therapy for residual or recurrent tumors.\",\n",
        "            \"Hormone replacement therapy post-treatment if needed.\"\n",
        "        ],\n",
        "        \"recovery\": [\n",
        "            \"Medications can help regulate hormone levels.\",\n",
        "            \"Surgery is recommended for larger or symptomatic tumors.\",\n",
        "            \"Radiation therapy is used if tumors return.\",\n",
        "            \"Hormone replacement therapy might be necessary long-term.\",\n",
        "            \"Ongoing endocrine evaluations are crucial.\"\n",
        "        ]\n",
        "    },\n",
        "    \"No Tumor\": {\n",
        "        \"about\": [\n",
        "            \"The MRI scan appears to be free of detectable brain tumors.\",\n",
        "            \"No abnormal growth or mass was identified in the image.\",\n",
        "            \"This suggests a healthy brain structure.\",\n",
        "            \"Symptoms may be due to non-tumor causes like migraine or stress.\",\n",
        "            \"Consultation may still be advised if symptoms persist.\"\n",
        "        ],\n",
        "        \"symptoms\": [\n",
        "            \"Possible causes for symptoms: migraines, stress, infections.\",\n",
        "            \"Tension headaches or sinus issues.\",\n",
        "            \"Neurological symptoms may still warrant further testing.\"\n",
        "        ],\n",
        "        \"treatment\": [\n",
        "            \"No tumor-specific treatment is required.\",\n",
        "            \"Treat symptoms as per underlying non-tumor condition.\",\n",
        "            \"Lifestyle changes may alleviate symptoms.\"\n",
        "        ],\n",
        "        \"recovery\": [\n",
        "            \"No treatment is necessary for brain tumors.\",\n",
        "            \"Maintain a healthy lifestyle and balanced nutrition.\",\n",
        "            \"Regular exercise supports mental and physical health.\",\n",
        "            \"Manage stress with meditation or therapy if needed.\",\n",
        "            \"Stay hydrated and follow up with a physician if needed.\"\n",
        "        ]\n",
        "    }\n",
        "}\n",
        "\n",
        "# Simulated prediction function\n",
        "def predict_tumor(img):\n",
        "    tumor_type = random.choice(list(tumor_data.keys()))  # Simulate prediction\n",
        "    tumor_info = \"\\n\".join([f\"{i+1}. {line}\" for i, line in enumerate(tumor_data[tumor_type][\"about\"])])\n",
        "    recovery_plan = \"\\n\".join([f\"{i+1}. {line}\" for i, line in enumerate(tumor_data[tumor_type][\"recovery\"])])\n",
        "    return tumor_type, tumor_info, recovery_plan\n",
        "\n",
        "# Enhanced chatbot\n",
        "def chat_with_bot(message, chat_history):\n",
        "    message_lower = message.lower()\n",
        "    response = \"I'm here to help with information about brain tumors. \"\n",
        "\n",
        "    # Determine the tumor type being asked about\n",
        "    for tumor in tumor_data:\n",
        "        if tumor.lower() in message_lower:\n",
        "            if \"symptom\" in message_lower:\n",
        "                response = f\"Symptoms of {tumor} include:\\n\" + \"\\n\".join(\n",
        "                    [f\"- {s}\" for s in tumor_data[tumor][\"symptoms\"]])\n",
        "            elif \"treatment\" in message_lower or \"treated\" in message_lower:\n",
        "                response = f\"Treatment options for {tumor} include:\\n\" + \"\\n\".join(\n",
        "                    [f\"- {t}\" for t in tumor_data[tumor][\"treatment\"]])\n",
        "            elif \"recovery\" in message_lower or \"recover\" in message_lower:\n",
        "                response = f\"Recovery process for {tumor}:\\n\" + \"\\n\".join(\n",
        "                    [f\"- {r}\" for r in tumor_data[tumor][\"recovery\"]])\n",
        "            elif \"about\" in message_lower or \"what is\" in message_lower or \"explain\" in message_lower:\n",
        "                response = f\"Here's what you should know about {tumor}:\\n\" + \"\\n\".join(\n",
        "                    [f\"- {a}\" for a in tumor_data[tumor][\"about\"]])\n",
        "            else:\n",
        "                response = (\n",
        "                    f\"{tumor} Information:\\n\"\n",
        "                    + \"\\n\".join([f\"- {a}\" for a in tumor_data[tumor][\"about\"]])\n",
        "                    + \"\\n\\nSymptoms:\\n\"\n",
        "                    + \"\\n\".join([f\"- {s}\" for s in tumor_data[tumor][\"symptoms\"]])\n",
        "                    + \"\\n\\nTreatment:\\n\"\n",
        "                    + \"\\n\".join([f\"- {t}\" for t in tumor_data[tumor][\"treatment\"]])\n",
        "                    + \"\\n\\nRecovery:\\n\"\n",
        "                    + \"\\n\".join([f\"- {r}\" for r in tumor_data[tumor][\"recovery\"]])\n",
        "                )\n",
        "            break\n",
        "    else:\n",
        "        response = (\n",
        "            \"You can ask me about any of the following:\\n\"\n",
        "            \"- Symptoms of Glioma, Meningioma, Pituitary tumor, or No Tumor.\\n\"\n",
        "            \"- Treatment or recovery options for these tumors.\\n\"\n",
        "            \"- Explanation or general information about them.\\n\"\n",
        "            \"For example: 'What are the symptoms of Glioma?' or 'Explain Pituitary tumor.'\"\n",
        "        )\n",
        "\n",
        "    chat_history.append((message, response))\n",
        "    return \"\", chat_history\n",
        "\n",
        "# Gradio UI\n",
        "with gr.Blocks(css=\"body {background-color: #111;} .gr-image {width: 100% !important;}\") as app:\n",
        "    gr.Markdown(\"<h1 style='text-align: center; color: #ff44ff;'>HYBRID CNN MODEL FOR BRAIN TUMOR DETECTION AND CLASSIFICATION</h1>\")\n",
        "\n",
        "    with gr.Row():\n",
        "        with gr.Column(scale=1.5):\n",
        "            image_input = gr.Image(type=\"pil\", label=\"Upload Your MRI Scan\", height=550)\n",
        "            with gr.Row():\n",
        "                detect_btn = gr.Button(\"Detect Tumor\", variant=\"primary\")\n",
        "                clear_btn = gr.Button(\"Clear\", variant=\"secondary\")\n",
        "\n",
        "        with gr.Column(scale=2.5):\n",
        "            gr.Markdown(\"<h2 style='color: #ff4444;'>Tumor Detected:</h2>\")\n",
        "            tumor_result = gr.Textbox(label=\"\", interactive=False)\n",
        "\n",
        "            gr.Markdown(\"<h2 style='color: #ffaa00;'>About Tumor:</h2>\")\n",
        "            tumor_details = gr.Textbox(label=\"\", interactive=False, lines=7)\n",
        "\n",
        "            gr.Markdown(\"<h2 style='color: #00aaff;'>Recovery Plan:</h2>\")\n",
        "            recovery_details = gr.Textbox(label=\"\", interactive=False, lines=7)\n",
        "\n",
        "    gr.Markdown(\"<hr><h2 style='color: #ffffff;'>💬 Ask Me Anything</h2>\")\n",
        "    chatbot = gr.Chatbot(label=\"Tumor Assistant Chatbot\", height=300)\n",
        "    chat_input = gr.Textbox(placeholder=\"Ask a question about brain tumors...\", label=\"Your Question\")\n",
        "\n",
        "    chat_input.submit(chat_with_bot, inputs=[chat_input, chatbot], outputs=[chat_input, chatbot])\n",
        "    detect_btn.click(predict_tumor, inputs=image_input, outputs=[tumor_result, tumor_details, recovery_details])\n",
        "    clear_btn.click(lambda: (None, \"\", \"\", \"\"), outputs=[image_input, tumor_result, tumor_details, recovery_details])\n",
        "\n",
        "app.launch()\n"
      ]
    },
    {
      "cell_type": "code",
      "source": [],
      "metadata": {
        "id": "R-sse43iXHEH"
      },
      "execution_count": null,
      "outputs": []
    }
  ],
  "metadata": {
    "colab": {
      "provenance": [],
      "authorship_tag": "ABX9TyO1CgIvJmNujvk1YWZaeIN0",
      "include_colab_link": true
    },
    "kernelspec": {
      "display_name": "Python 3",
      "name": "python3"
    },
    "language_info": {
      "name": "python"
    }
  },
  "nbformat": 4,
  "nbformat_minor": 0
}