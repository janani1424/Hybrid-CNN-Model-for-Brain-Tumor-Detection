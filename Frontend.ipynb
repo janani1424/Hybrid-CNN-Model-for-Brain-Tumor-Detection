{
  "cells": [
    {
      "cell_type": "markdown",
      "metadata": {
        "id": "view-in-github",
        "colab_type": "text"
      },
      "source": [
        "<a href=\"https://colab.research.google.com/github/janani1424/Hybrid-CNN-Model-for-Brain-Tumor-Detection/blob/main/Frontend.ipynb\" target=\"_parent\"><img src=\"https://colab.research.google.com/assets/colab-badge.svg\" alt=\"Open In Colab\"/></a>"
      ]
    },
    {
      "cell_type": "code",
      "execution_count": 1,
      "metadata": {
        "colab": {
          "base_uri": "https://localhost:8080/"
        },
        "id": "xovaDXOUWuM7",
        "outputId": "a24456fd-612f-4438-858b-1db02ab2523f"
      },
      "outputs": [
        {
          "output_type": "stream",
          "name": "stdout",
          "text": [
            "Collecting gradio\n",
            "  Downloading gradio-5.27.0-py3-none-any.whl.metadata (16 kB)\n",
            "Collecting aiofiles<25.0,>=22.0 (from gradio)\n",
            "  Downloading aiofiles-24.1.0-py3-none-any.whl.metadata (10 kB)\n",
            "Requirement already satisfied: anyio<5.0,>=3.0 in /usr/local/lib/python3.11/dist-packages (from gradio) (4.9.0)\n",
            "Collecting fastapi<1.0,>=0.115.2 (from gradio)\n",
            "  Downloading fastapi-0.115.12-py3-none-any.whl.metadata (27 kB)\n",
            "Collecting ffmpy (from gradio)\n",
            "  Downloading ffmpy-0.5.0-py3-none-any.whl.metadata (3.0 kB)\n",
            "Collecting gradio-client==1.9.0 (from gradio)\n",
            "  Downloading gradio_client-1.9.0-py3-none-any.whl.metadata (7.1 kB)\n",
            "Collecting groovy~=0.1 (from gradio)\n",
            "  Downloading groovy-0.1.2-py3-none-any.whl.metadata (6.1 kB)\n",
            "Requirement already satisfied: httpx>=0.24.1 in /usr/local/lib/python3.11/dist-packages (from gradio) (0.28.1)\n",
            "Requirement already satisfied: huggingface-hub>=0.28.1 in /usr/local/lib/python3.11/dist-packages (from gradio) (0.30.2)\n",
            "Requirement already satisfied: jinja2<4.0 in /usr/local/lib/python3.11/dist-packages (from gradio) (3.1.6)\n",
            "Requirement already satisfied: markupsafe<4.0,>=2.0 in /usr/local/lib/python3.11/dist-packages (from gradio) (3.0.2)\n",
            "Requirement already satisfied: numpy<3.0,>=1.0 in /usr/local/lib/python3.11/dist-packages (from gradio) (2.0.2)\n",
            "Requirement already satisfied: orjson~=3.0 in /usr/local/lib/python3.11/dist-packages (from gradio) (3.10.16)\n",
            "Requirement already satisfied: packaging in /usr/local/lib/python3.11/dist-packages (from gradio) (24.2)\n",
            "Requirement already satisfied: pandas<3.0,>=1.0 in /usr/local/lib/python3.11/dist-packages (from gradio) (2.2.2)\n",
            "Requirement already satisfied: pillow<12.0,>=8.0 in /usr/local/lib/python3.11/dist-packages (from gradio) (11.1.0)\n",
            "Requirement already satisfied: pydantic<2.12,>=2.0 in /usr/local/lib/python3.11/dist-packages (from gradio) (2.11.3)\n",
            "Collecting pydub (from gradio)\n",
            "  Downloading pydub-0.25.1-py2.py3-none-any.whl.metadata (1.4 kB)\n",
            "Collecting python-multipart>=0.0.18 (from gradio)\n",
            "  Downloading python_multipart-0.0.20-py3-none-any.whl.metadata (1.8 kB)\n",
            "Requirement already satisfied: pyyaml<7.0,>=5.0 in /usr/local/lib/python3.11/dist-packages (from gradio) (6.0.2)\n",
            "Collecting ruff>=0.9.3 (from gradio)\n",
            "  Downloading ruff-0.11.7-py3-none-manylinux_2_17_x86_64.manylinux2014_x86_64.whl.metadata (25 kB)\n",
            "Collecting safehttpx<0.2.0,>=0.1.6 (from gradio)\n",
            "  Downloading safehttpx-0.1.6-py3-none-any.whl.metadata (4.2 kB)\n",
            "Collecting semantic-version~=2.0 (from gradio)\n",
            "  Downloading semantic_version-2.10.0-py2.py3-none-any.whl.metadata (9.7 kB)\n",
            "Collecting starlette<1.0,>=0.40.0 (from gradio)\n",
            "  Downloading starlette-0.46.2-py3-none-any.whl.metadata (6.2 kB)\n",
            "Collecting tomlkit<0.14.0,>=0.12.0 (from gradio)\n",
            "  Downloading tomlkit-0.13.2-py3-none-any.whl.metadata (2.7 kB)\n",
            "Requirement already satisfied: typer<1.0,>=0.12 in /usr/local/lib/python3.11/dist-packages (from gradio) (0.15.2)\n",
            "Requirement already satisfied: typing-extensions~=4.0 in /usr/local/lib/python3.11/dist-packages (from gradio) (4.13.2)\n",
            "Collecting uvicorn>=0.14.0 (from gradio)\n",
            "  Downloading uvicorn-0.34.2-py3-none-any.whl.metadata (6.5 kB)\n",
            "Requirement already satisfied: fsspec in /usr/local/lib/python3.11/dist-packages (from gradio-client==1.9.0->gradio) (2025.3.2)\n",
            "Requirement already satisfied: websockets<16.0,>=10.0 in /usr/local/lib/python3.11/dist-packages (from gradio-client==1.9.0->gradio) (15.0.1)\n",
            "Requirement already satisfied: idna>=2.8 in /usr/local/lib/python3.11/dist-packages (from anyio<5.0,>=3.0->gradio) (3.10)\n",
            "Requirement already satisfied: sniffio>=1.1 in /usr/local/lib/python3.11/dist-packages (from anyio<5.0,>=3.0->gradio) (1.3.1)\n",
            "Requirement already satisfied: certifi in /usr/local/lib/python3.11/dist-packages (from httpx>=0.24.1->gradio) (2025.1.31)\n",
            "Requirement already satisfied: httpcore==1.* in /usr/local/lib/python3.11/dist-packages (from httpx>=0.24.1->gradio) (1.0.8)\n",
            "Requirement already satisfied: h11<0.15,>=0.13 in /usr/local/lib/python3.11/dist-packages (from httpcore==1.*->httpx>=0.24.1->gradio) (0.14.0)\n",
            "Requirement already satisfied: filelock in /usr/local/lib/python3.11/dist-packages (from huggingface-hub>=0.28.1->gradio) (3.18.0)\n",
            "Requirement already satisfied: requests in /usr/local/lib/python3.11/dist-packages (from huggingface-hub>=0.28.1->gradio) (2.32.3)\n",
            "Requirement already satisfied: tqdm>=4.42.1 in /usr/local/lib/python3.11/dist-packages (from huggingface-hub>=0.28.1->gradio) (4.67.1)\n",
            "Requirement already satisfied: python-dateutil>=2.8.2 in /usr/local/lib/python3.11/dist-packages (from pandas<3.0,>=1.0->gradio) (2.8.2)\n",
            "Requirement already satisfied: pytz>=2020.1 in /usr/local/lib/python3.11/dist-packages (from pandas<3.0,>=1.0->gradio) (2025.2)\n",
            "Requirement already satisfied: tzdata>=2022.7 in /usr/local/lib/python3.11/dist-packages (from pandas<3.0,>=1.0->gradio) (2025.2)\n",
            "Requirement already satisfied: annotated-types>=0.6.0 in /usr/local/lib/python3.11/dist-packages (from pydantic<2.12,>=2.0->gradio) (0.7.0)\n",
            "Requirement already satisfied: pydantic-core==2.33.1 in /usr/local/lib/python3.11/dist-packages (from pydantic<2.12,>=2.0->gradio) (2.33.1)\n",
            "Requirement already satisfied: typing-inspection>=0.4.0 in /usr/local/lib/python3.11/dist-packages (from pydantic<2.12,>=2.0->gradio) (0.4.0)\n",
            "Requirement already satisfied: click>=8.0.0 in /usr/local/lib/python3.11/dist-packages (from typer<1.0,>=0.12->gradio) (8.1.8)\n",
            "Requirement already satisfied: shellingham>=1.3.0 in /usr/local/lib/python3.11/dist-packages (from typer<1.0,>=0.12->gradio) (1.5.4)\n",
            "Requirement already satisfied: rich>=10.11.0 in /usr/local/lib/python3.11/dist-packages (from typer<1.0,>=0.12->gradio) (13.9.4)\n",
            "Requirement already satisfied: six>=1.5 in /usr/local/lib/python3.11/dist-packages (from python-dateutil>=2.8.2->pandas<3.0,>=1.0->gradio) (1.17.0)\n",
            "Requirement already satisfied: markdown-it-py>=2.2.0 in /usr/local/lib/python3.11/dist-packages (from rich>=10.11.0->typer<1.0,>=0.12->gradio) (3.0.0)\n",
            "Requirement already satisfied: pygments<3.0.0,>=2.13.0 in /usr/local/lib/python3.11/dist-packages (from rich>=10.11.0->typer<1.0,>=0.12->gradio) (2.18.0)\n",
            "Requirement already satisfied: charset-normalizer<4,>=2 in /usr/local/lib/python3.11/dist-packages (from requests->huggingface-hub>=0.28.1->gradio) (3.4.1)\n",
            "Requirement already satisfied: urllib3<3,>=1.21.1 in /usr/local/lib/python3.11/dist-packages (from requests->huggingface-hub>=0.28.1->gradio) (2.3.0)\n",
            "Requirement already satisfied: mdurl~=0.1 in /usr/local/lib/python3.11/dist-packages (from markdown-it-py>=2.2.0->rich>=10.11.0->typer<1.0,>=0.12->gradio) (0.1.2)\n",
            "Downloading gradio-5.27.0-py3-none-any.whl (54.0 MB)\n",
            "\u001b[2K   \u001b[90m━━━━━━━━━━━━━━━━━━━━━━━━━━━━━━━━━━━━━━━━\u001b[0m \u001b[32m54.0/54.0 MB\u001b[0m \u001b[31m9.8 MB/s\u001b[0m eta \u001b[36m0:00:00\u001b[0m\n",
            "\u001b[?25hDownloading gradio_client-1.9.0-py3-none-any.whl (322 kB)\n",
            "\u001b[2K   \u001b[90m━━━━━━━━━━━━━━━━━━━━━━━━━━━━━━━━━━━━━━━━\u001b[0m \u001b[32m322.6/322.6 kB\u001b[0m \u001b[31m10.6 MB/s\u001b[0m eta \u001b[36m0:00:00\u001b[0m\n",
            "\u001b[?25hDownloading aiofiles-24.1.0-py3-none-any.whl (15 kB)\n",
            "Downloading fastapi-0.115.12-py3-none-any.whl (95 kB)\n",
            "\u001b[2K   \u001b[90m━━━━━━━━━━━━━━━━━━━━━━━━━━━━━━━━━━━━━━━━\u001b[0m \u001b[32m95.2/95.2 kB\u001b[0m \u001b[31m4.2 MB/s\u001b[0m eta \u001b[36m0:00:00\u001b[0m\n",
            "\u001b[?25hDownloading groovy-0.1.2-py3-none-any.whl (14 kB)\n",
            "Downloading python_multipart-0.0.20-py3-none-any.whl (24 kB)\n",
            "Downloading ruff-0.11.7-py3-none-manylinux_2_17_x86_64.manylinux2014_x86_64.whl (11.5 MB)\n",
            "\u001b[2K   \u001b[90m━━━━━━━━━━━━━━━━━━━━━━━━━━━━━━━━━━━━━━━━\u001b[0m \u001b[32m11.5/11.5 MB\u001b[0m \u001b[31m15.0 MB/s\u001b[0m eta \u001b[36m0:00:00\u001b[0m\n",
            "\u001b[?25hDownloading safehttpx-0.1.6-py3-none-any.whl (8.7 kB)\n",
            "Downloading semantic_version-2.10.0-py2.py3-none-any.whl (15 kB)\n",
            "Downloading starlette-0.46.2-py3-none-any.whl (72 kB)\n",
            "\u001b[2K   \u001b[90m━━━━━━━━━━━━━━━━━━━━━━━━━━━━━━━━━━━━━━━━\u001b[0m \u001b[32m72.0/72.0 kB\u001b[0m \u001b[31m4.9 MB/s\u001b[0m eta \u001b[36m0:00:00\u001b[0m\n",
            "\u001b[?25hDownloading tomlkit-0.13.2-py3-none-any.whl (37 kB)\n",
            "Downloading uvicorn-0.34.2-py3-none-any.whl (62 kB)\n",
            "\u001b[2K   \u001b[90m━━━━━━━━━━━━━━━━━━━━━━━━━━━━━━━━━━━━━━━━\u001b[0m \u001b[32m62.5/62.5 kB\u001b[0m \u001b[31m5.0 MB/s\u001b[0m eta \u001b[36m0:00:00\u001b[0m\n",
            "\u001b[?25hDownloading ffmpy-0.5.0-py3-none-any.whl (6.0 kB)\n",
            "Downloading pydub-0.25.1-py2.py3-none-any.whl (32 kB)\n",
            "Installing collected packages: pydub, uvicorn, tomlkit, semantic-version, ruff, python-multipart, groovy, ffmpy, aiofiles, starlette, safehttpx, gradio-client, fastapi, gradio\n",
            "Successfully installed aiofiles-24.1.0 fastapi-0.115.12 ffmpy-0.5.0 gradio-5.27.0 gradio-client-1.9.0 groovy-0.1.2 pydub-0.25.1 python-multipart-0.0.20 ruff-0.11.7 safehttpx-0.1.6 semantic-version-2.10.0 starlette-0.46.2 tomlkit-0.13.2 uvicorn-0.34.2\n"
          ]
        }
      ],
      "source": [
        "!pip install gradio"
      ]
    },
    {
      "cell_type": "code",
      "source": [
        "import random"
      ],
      "metadata": {
        "id": "NWLquRgbWuHi"
      },
      "execution_count": 2,
      "outputs": []
    },
    {
      "cell_type": "code",
      "execution_count": 3,
      "metadata": {
        "id": "p8zIhFZOXEy8"
      },
      "outputs": [],
      "source": [
        "import os\n",
        "import numpy as np\n",
        "import cv2\n",
        "import tensorflow as tf\n",
        "import gradio as gr\n",
        "import matplotlib.pyplot as plt\n",
        "import seaborn as sns\n",
        "import pandas as pd\n",
        "from tensorflow.keras.applications import ResNet50, VGG16\n",
        "from tensorflow.keras.layers import GlobalAveragePooling2D, Dense, Dropout, Concatenate, Flatten\n",
        "from tensorflow.keras.models import Model\n",
        "from tensorflow.keras.optimizers import Adam\n",
        "from tensorflow.keras.preprocessing.image import img_to_array, ImageDataGenerator"
      ]
    },
    {
      "cell_type": "code",
      "execution_count": 4,
      "metadata": {
        "colab": {
          "base_uri": "https://localhost:8080/"
        },
        "id": "AFxr-j1VXNlo",
        "outputId": "a5d0c8ae-a9d1-4312-cd0e-80afc931e944"
      },
      "outputs": [
        {
          "output_type": "stream",
          "name": "stdout",
          "text": [
            "Mounted at /content/drive\n"
          ]
        }
      ],
      "source": [
        "from google.colab import drive\n",
        "drive.mount(\"/content/drive\")\n",
        "\n",
        "# Set the path to the dataset\n",
        "dataset_path = \"/content/drive/MyDrive/DATASET\"\n",
        "\n",
        "# Define the training and testing directories\n",
        "train_dir = os.path.join(dataset_path, \"/content/drive/MyDrive/DATASET/Training\")\n",
        "test_dir = os.path.join(dataset_path, \"/content/drive/MyDrive/DATASET/Testing\")\n",
        "\n",
        "# Define the categories\n",
        "categories = [\"glioma\", \"meningioma\", \"notumor\", \"pituitary\"]"
      ]
    },
    {
      "cell_type": "code",
      "execution_count": 5,
      "metadata": {
        "id": "xNTGnjLqXcTr"
      },
      "outputs": [],
      "source": [
        "# Define the categories\n",
        "categories = [\"glioma\", \"meningioma\", \"notumor\", \"pituitary\"]"
      ]
    },
    {
      "cell_type": "code",
      "execution_count": 6,
      "metadata": {
        "colab": {
          "base_uri": "https://localhost:8080/"
        },
        "id": "xKYGMQhEbIEA",
        "outputId": "39d6ad7f-1c2d-4ef7-d5f0-de09edf2900a"
      },
      "outputs": [
        {
          "output_type": "stream",
          "name": "stdout",
          "text": [
            "Found 5712 images belonging to 4 classes.\n",
            "Found 1268 images belonging to 4 classes.\n"
          ]
        }
      ],
      "source": [
        "# Data augmentation\n",
        "train_datagen = ImageDataGenerator(\n",
        "    rescale=1./255,\n",
        "    rotation_range=20,\n",
        "    width_shift_range=0.1,\n",
        "    height_shift_range=0.1,\n",
        "    shear_range=0.1,\n",
        "    zoom_range=0.1,\n",
        "    horizontal_flip=True,\n",
        "    vertical_flip=True,\n",
        "    fill_mode=\"nearest\"\n",
        ")\n",
        "\n",
        "test_datagen = ImageDataGenerator(rescale=1./255)\n",
        "\n",
        "target_size = (224, 224)\n",
        "batch_size = 32\n",
        "\n",
        "train_generator = train_datagen.flow_from_directory(\n",
        "    train_dir,\n",
        "    target_size=target_size,\n",
        "    batch_size=batch_size,\n",
        "    class_mode=\"categorical\"\n",
        ")\n",
        "\n",
        "test_generator = test_datagen.flow_from_directory(\n",
        "    test_dir,\n",
        "    target_size=target_size,\n",
        "    batch_size=batch_size,\n",
        "    class_mode=\"categorical\",\n",
        "    shuffle=False\n",
        ")"
      ]
    },
    {
      "cell_type": "code",
      "execution_count": 7,
      "metadata": {
        "id": "jaG6G33cbOLJ",
        "colab": {
          "base_uri": "https://localhost:8080/"
        },
        "outputId": "58e83322-e13c-4518-a0dd-d47c686c5889"
      },
      "outputs": [
        {
          "output_type": "stream",
          "name": "stdout",
          "text": [
            "Downloading data from https://storage.googleapis.com/tensorflow/keras-applications/resnet/resnet50_weights_tf_dim_ordering_tf_kernels_notop.h5\n",
            "\u001b[1m94765736/94765736\u001b[0m \u001b[32m━━━━━━━━━━━━━━━━━━━━\u001b[0m\u001b[37m\u001b[0m \u001b[1m0s\u001b[0m 0us/step\n",
            "Downloading data from https://storage.googleapis.com/tensorflow/keras-applications/vgg16/vgg16_weights_tf_dim_ordering_tf_kernels_notop.h5\n",
            "\u001b[1m58889256/58889256\u001b[0m \u001b[32m━━━━━━━━━━━━━━━━━━━━\u001b[0m\u001b[37m\u001b[0m \u001b[1m0s\u001b[0m 0us/step\n"
          ]
        }
      ],
      "source": [
        "# Load Pretrained Models\n",
        "resnet = ResNet50(weights='imagenet', include_top=False, input_shape=(224, 224, 3))\n",
        "vgg16 = VGG16(weights='imagenet', include_top=False, input_shape=(224, 224, 3))"
      ]
    },
    {
      "cell_type": "code",
      "execution_count": 8,
      "metadata": {
        "id": "K2Y55GJJbe9B"
      },
      "outputs": [],
      "source": [
        "# Freeze Initial Layers\n",
        "for layer in resnet.layers[:100]:\n",
        "    layer.trainable = False\n",
        "for layer in vgg16.layers[:15]:\n",
        "    layer.trainable = False"
      ]
    },
    {
      "cell_type": "code",
      "execution_count": 9,
      "metadata": {
        "id": "PkKeeQa0bh-m"
      },
      "outputs": [],
      "source": [
        "# Feature Extraction Layers\n",
        "resnet_output = GlobalAveragePooling2D()(resnet.output)\n",
        "vgg16_output = GlobalAveragePooling2D()(vgg16.output)"
      ]
    },
    {
      "cell_type": "code",
      "execution_count": 10,
      "metadata": {
        "id": "flB4F-ZNblU4"
      },
      "outputs": [],
      "source": [
        "# Concatenate Features\n",
        "merged_features = Concatenate()([resnet_output, vgg16_output])"
      ]
    },
    {
      "cell_type": "code",
      "execution_count": 11,
      "metadata": {
        "id": "BTPJ0sXsbpsS"
      },
      "outputs": [],
      "source": [
        "# Fully Connected Layers\n",
        "x = Dense(512, activation='relu')(merged_features)\n",
        "x = Dropout(0.5)(x)\n",
        "x = Dense(256, activation='relu')(x)\n",
        "x = Dropout(0.3)(x)\n",
        "out = Dense(len(categories), activation='softmax')  # 4-class classification"
      ]
    },
    {
      "cell_type": "code",
      "execution_count": 12,
      "metadata": {
        "id": "VZ6YVpHTbtfB"
      },
      "outputs": [],
      "source": [
        "# Define Hybrid CNN Model\n",
        "model = Model(inputs=[resnet.input, vgg16.input], outputs=out(x)) # Pass the output tensor from the 'out' layer"
      ]
    },
    {
      "cell_type": "code",
      "execution_count": 13,
      "metadata": {
        "id": "Zadi4I46bwZa"
      },
      "outputs": [],
      "source": [
        "# Compile Model\n",
        "model.compile(optimizer=Adam(learning_rate=0.0001), loss='categorical_crossentropy', metrics=['accuracy'])"
      ]
    },
    {
      "cell_type": "code",
      "execution_count": 15,
      "metadata": {
        "colab": {
          "base_uri": "https://localhost:8080/",
          "height": 749
        },
        "id": "_ymn8KEjTqr0",
        "outputId": "85135d9c-886c-4e49-c052-e7a422b4bca9"
      },
      "outputs": [
        {
          "output_type": "stream",
          "name": "stderr",
          "text": [
            "/usr/local/lib/python3.11/dist-packages/gradio/layouts/column.py:55: UserWarning: 'scale' value should be an integer. Using 1.5 will cause issues.\n",
            "  warnings.warn(\n",
            "/usr/local/lib/python3.11/dist-packages/gradio/layouts/column.py:55: UserWarning: 'scale' value should be an integer. Using 2.5 will cause issues.\n",
            "  warnings.warn(\n",
            "<ipython-input-15-c08c0d36ac14>:194: UserWarning: You have not specified a value for the `type` parameter. Defaulting to the 'tuples' format for chatbot messages, but this is deprecated and will be removed in a future version of Gradio. Please set type='messages' instead, which uses openai-style dictionaries with 'role' and 'content' keys.\n",
            "  chatbot = gr.Chatbot(label=\"Tumor Assistant Chatbot\", height=300)\n"
          ]
        },
        {
          "output_type": "stream",
          "name": "stdout",
          "text": [
            "It looks like you are running Gradio on a hosted a Jupyter notebook. For the Gradio app to work, sharing must be enabled. Automatically setting `share=True` (you can turn this off by setting `share=False` in `launch()` explicitly).\n",
            "\n",
            "Colab notebook detected. To show errors in colab notebook, set debug=True in launch()\n",
            "* Running on public URL: https://45566ba3c4b60c8f15.gradio.live\n",
            "\n",
            "This share link expires in 1 week. For free permanent hosting and GPU upgrades, run `gradio deploy` from the terminal in the working directory to deploy to Hugging Face Spaces (https://huggingface.co/spaces)\n"
          ]
        },
        {
          "output_type": "display_data",
          "data": {
            "text/plain": [
              "<IPython.core.display.HTML object>"
            ],
            "text/html": [
              "<div><iframe src=\"https://45566ba3c4b60c8f15.gradio.live\" width=\"100%\" height=\"500\" allow=\"autoplay; camera; microphone; clipboard-read; clipboard-write;\" frameborder=\"0\" allowfullscreen></iframe></div>"
            ]
          },
          "metadata": {}
        },
        {
          "output_type": "execute_result",
          "data": {
            "text/plain": []
          },
          "metadata": {},
          "execution_count": 15
        }
      ],
      "source": [
        "import gradio as gr\n",
        "\n",
        "# Tumor details dictionary with added symptoms and treatment\n",
        "tumor_data = {\n",
        "    \"Glioma\": {\n",
        "        \"about\": [\n",
        "           \"Gliomas originate from glial cells in the brain or spine.\",\n",
        "            \"They can be benign or malignant with varying aggressiveness.\",\n",
        "            \"Symptoms include headaches, seizures, and cognitive dysfunction.\",\n",
        "            \"Treatment often includes surgery, radiation, and chemotherapy.\",\n",
        "            \"Regular MRI scans are recommended for monitoring.\"\n",
        "        ],\n",
        "        \"symptoms\": [\n",
        "            \"Persistent headaches.\",\n",
        "            \"Seizures or convulsions.\",\n",
        "            \"Nausea and vomiting.\",\n",
        "            \"Cognitive or personality changes.\",\n",
        "            \"Weakness or numbness in limbs.\"\n",
        "        ],\n",
        "        \"treatment\": [\n",
        "            \"Surgical resection is typically the first line of treatment.\",\n",
        "            \"Radiation therapy is used post-surgery or for inoperable tumors.\",\n",
        "            \"Chemotherapy may be required for high-grade gliomas.\",\n",
        "            \"Targeted therapies or clinical trials may be considered.\"\n",
        "        ],\n",
        "        \"recovery\": [\n",
        "            \"Surgical removal is typically the first step.\",\n",
        "            \"Radiation therapy targets any remaining tumor tissue.\",\n",
        "            \"Chemotherapy may be needed for aggressive gliomas.\",\n",
        "            \"Frequent neurological evaluations help track progress.\",\n",
        "            \"Healthy lifestyle choices aid overall recovery.\"\n",
        "        ]\n",
        "    },\n",
        "    \"Meningioma\": {\n",
        "        \"about\": [\n",
        "            \"Meningiomas arise from the meninges, the membranes covering the brain and spinal cord.\",\n",
        "            \"Most meningiomas are non-cancerous but can grow large and cause symptoms.\",\n",
        "            \"Common symptoms include vision problems, headaches, and memory issues.\",\n",
        "            \"Diagnosis often involves MRI or CT imaging.\",\n",
        "            \"Not all meningiomas require immediate treatment.\"\n",
        "        ],\n",
        "        \"symptoms\": [\n",
        "            \"Headaches, often worse in the morning.\",\n",
        "            \"Blurred or double vision.\",\n",
        "            \"Hearing loss or ringing in ears.\",\n",
        "            \"Memory problems or personality changes.\",\n",
        "            \"Seizures or focal neurological deficits.\"\n",
        "        ],\n",
        "        \"treatment\": [\n",
        "            \"Observation with periodic imaging if asymptomatic.\",\n",
        "            \"Surgical removal for symptomatic or growing tumors.\",\n",
        "            \"Radiation therapy if surgery isn’t complete or feasible.\",\n",
        "            \"Stereotactic radiosurgery for small, hard-to-reach tumors.\"\n",
        "        ],\n",
        "        \"recovery\": [\n",
        "            \"Observation may be enough for small, asymptomatic tumors.\",\n",
        "            \"Surgical resection is used when tumors are causing symptoms.\",\n",
        "            \"Radiotherapy can be used for incompletely removed tumors.\",\n",
        "            \"Follow-up imaging is required to detect regrowth.\",\n",
        "            \"Supportive therapy improves quality of life.\"\n",
        "        ]\n",
        "    },\n",
        "    \"Pituitary\": {\n",
        "        \"about\": [\n",
        "           \"Pituitary tumors develop in the pituitary gland at the brain’s base.\",\n",
        "            \"They can affect hormone production and cause systemic effects.\",\n",
        "            \"Symptoms include hormonal imbalances, vision issues, and fatigue.\",\n",
        "            \"Often detected via blood tests and MRI scans.\",\n",
        "            \"May be functional (hormone-producing) or non-functional.\"\n",
        "        ],\n",
        "        \"symptoms\": [\n",
        "            \"Vision changes like tunnel vision or blurry vision.\",\n",
        "            \"Unexplained weight gain or loss.\",\n",
        "            \"Menstrual irregularities or sexual dysfunction.\",\n",
        "            \"Fatigue, depression, or mood swings.\",\n",
        "            \"Headaches behind the eyes or forehead.\"\n",
        "        ],\n",
        "        \"treatment\": [\n",
        "            \"Medication to control hormone levels or shrink the tumor.\",\n",
        "            \"Transsphenoidal surgery (through the nose) for removal.\",\n",
        "            \"Radiation therapy for residual or recurrent tumors.\",\n",
        "            \"Hormone replacement therapy post-treatment if needed.\"\n",
        "        ],\n",
        "        \"recovery\": [\n",
        "            \"Medications can help regulate hormone levels.\",\n",
        "            \"Surgery is recommended for larger or symptomatic tumors.\",\n",
        "            \"Radiation therapy is used if tumors return.\",\n",
        "            \"Hormone replacement therapy might be necessary long-term.\",\n",
        "            \"Ongoing endocrine evaluations are crucial.\"\n",
        "        ]\n",
        "    },\n",
        "    \"No Tumor\": {\n",
        "        \"about\": [\n",
        "            \"The MRI scan appears to be free of detectable brain tumors.\",\n",
        "            \"No abnormal growth or mass was identified in the image.\",\n",
        "            \"This suggests a healthy brain structure.\",\n",
        "            \"Symptoms may be due to non-tumor causes like migraine or stress.\",\n",
        "            \"Consultation may still be advised if symptoms persist.\"\n",
        "        ],\n",
        "        \"symptoms\": [\n",
        "            \"Possible causes for symptoms: migraines, stress, infections.\",\n",
        "            \"Tension headaches or sinus issues.\",\n",
        "            \"Neurological symptoms may still warrant further testing.\"\n",
        "        ],\n",
        "        \"treatment\": [\n",
        "            \"No tumor-specific treatment is required.\",\n",
        "            \"Treat symptoms as per underlying non-tumor condition.\",\n",
        "            \"Lifestyle changes may alleviate symptoms.\"\n",
        "        ],\n",
        "        \"recovery\": [\n",
        "            \"No treatment is necessary for brain tumors.\",\n",
        "            \"Maintain a healthy lifestyle and balanced nutrition.\",\n",
        "            \"Regular exercise supports mental and physical health.\",\n",
        "            \"Manage stress with meditation or therapy if needed.\",\n",
        "            \"Stay hydrated and follow up with a physician if needed.\"\n",
        "        ]\n",
        "    }\n",
        "}\n",
        "\n",
        "# Simulated prediction function\n",
        "def predict_tumor(img):\n",
        "    tumor_type = random.choice(list(tumor_data.keys()))  # Simulate prediction\n",
        "    tumor_info = \"\\n\".join([f\"{i+1}. {line}\" for i, line in enumerate(tumor_data[tumor_type][\"about\"])])\n",
        "    recovery_plan = \"\\n\".join([f\"{i+1}. {line}\" for i, line in enumerate(tumor_data[tumor_type][\"recovery\"])])\n",
        "    return tumor_type, tumor_info, recovery_plan\n",
        "\n",
        "# Enhanced chatbot\n",
        "def chat_with_bot(message, chat_history):\n",
        "    message_lower = message.lower()\n",
        "    response = \"I'm here to help with information about brain tumors. \"\n",
        "\n",
        "    # Determine the tumor type being asked about\n",
        "    for tumor in tumor_data:\n",
        "        if tumor.lower() in message_lower:\n",
        "            if \"symptom\" in message_lower:\n",
        "                response = f\"Symptoms of {tumor} include:\\n\" + \"\\n\".join(\n",
        "                    [f\"- {s}\" for s in tumor_data[tumor][\"symptoms\"]])\n",
        "            elif \"treatment\" in message_lower or \"treated\" in message_lower:\n",
        "                response = f\"Treatment options for {tumor} include:\\n\" + \"\\n\".join(\n",
        "                    [f\"- {t}\" for t in tumor_data[tumor][\"treatment\"]])\n",
        "            elif \"recovery\" in message_lower or \"recover\" in message_lower:\n",
        "                response = f\"Recovery process for {tumor}:\\n\" + \"\\n\".join(\n",
        "                    [f\"- {r}\" for r in tumor_data[tumor][\"recovery\"]])\n",
        "            elif \"about\" in message_lower or \"what is\" in message_lower or \"explain\" in message_lower:\n",
        "                response = f\"Here's what you should know about {tumor}:\\n\" + \"\\n\".join(\n",
        "                    [f\"- {a}\" for a in tumor_data[tumor][\"about\"]])\n",
        "            else:\n",
        "                response = (\n",
        "                    f\"{tumor} Information:\\n\"\n",
        "                    + \"\\n\".join([f\"- {a}\" for a in tumor_data[tumor][\"about\"]])\n",
        "                    + \"\\n\\nSymptoms:\\n\"\n",
        "                    + \"\\n\".join([f\"- {s}\" for s in tumor_data[tumor][\"symptoms\"]])\n",
        "                    + \"\\n\\nTreatment:\\n\"\n",
        "                    + \"\\n\".join([f\"- {t}\" for t in tumor_data[tumor][\"treatment\"]])\n",
        "                    + \"\\n\\nRecovery:\\n\"\n",
        "                    + \"\\n\".join([f\"- {r}\" for r in tumor_data[tumor][\"recovery\"]])\n",
        "                )\n",
        "            break\n",
        "    else:\n",
        "        response = (\n",
        "            \"You can ask me about any of the following:\\n\"\n",
        "            \"- Symptoms of Glioma, Meningioma, Pituitary tumor, or No Tumor.\\n\"\n",
        "            \"- Treatment or recovery options for these tumors.\\n\"\n",
        "            \"- Explanation or general information about them.\\n\"\n",
        "            \"For example: 'What are the symptoms of Glioma?' or 'Explain Pituitary tumor.'\"\n",
        "        )\n",
        "\n",
        "    chat_history.append((message, response))\n",
        "    return \"\", chat_history\n",
        "\n",
        "# Gradio UI\n",
        "with gr.Blocks(css=\"body {background-color: #111;} .gr-image {width: 100% !important;}\") as app:\n",
        "    gr.Markdown(\"<h1 style='text-align: center; color: #ff44ff;'>HYBRID CNN MODEL FOR BRAIN TUMOR DETECTION AND CLASSIFICATION</h1>\")\n",
        "\n",
        "    with gr.Row():\n",
        "        with gr.Column(scale=1.5):\n",
        "            image_input = gr.Image(type=\"pil\", label=\"Upload Your MRI Scan\", height=550)\n",
        "            with gr.Row():\n",
        "                detect_btn = gr.Button(\"Detect Tumor\", variant=\"primary\")\n",
        "                clear_btn = gr.Button(\"Clear\", variant=\"secondary\")\n",
        "\n",
        "        with gr.Column(scale=2.5):\n",
        "            gr.Markdown(\"<h2 style='color: #ff4444;'>Tumor Detected:</h2>\")\n",
        "            tumor_result = gr.Textbox(label=\"\", interactive=False)\n",
        "\n",
        "            gr.Markdown(\"<h2 style='color: #ffaa00;'>About Tumor:</h2>\")\n",
        "            tumor_details = gr.Textbox(label=\"\", interactive=False, lines=7)\n",
        "\n",
        "            gr.Markdown(\"<h2 style='color: #00aaff;'>Recovery Plan:</h2>\")\n",
        "            recovery_details = gr.Textbox(label=\"\", interactive=False, lines=7)\n",
        "\n",
        "    gr.Markdown(\"<hr><h2 style='color: #ffffff;'>💬 Ask Me Anything</h2>\")\n",
        "    chatbot = gr.Chatbot(label=\"Tumor Assistant Chatbot\", height=300)\n",
        "    chat_input = gr.Textbox(placeholder=\"Ask a question about brain tumors...\", label=\"Your Question\")\n",
        "\n",
        "    chat_input.submit(chat_with_bot, inputs=[chat_input, chatbot], outputs=[chat_input, chatbot])\n",
        "    detect_btn.click(predict_tumor, inputs=image_input, outputs=[tumor_result, tumor_details, recovery_details])\n",
        "    clear_btn.click(lambda: (None, \"\", \"\", \"\"), outputs=[image_input, tumor_result, tumor_details, recovery_details])\n",
        "\n",
        "app.launch()\n"
      ]
    }
  ],
  "metadata": {
    "colab": {
      "provenance": [],
      "authorship_tag": "ABX9TyMkFaL63vcxgpaGtDdYupYE",
      "include_colab_link": true
    },
    "kernelspec": {
      "display_name": "Python 3",
      "name": "python3"
    },
    "language_info": {
      "name": "python"
    }
  },
  "nbformat": 4,
  "nbformat_minor": 0
}